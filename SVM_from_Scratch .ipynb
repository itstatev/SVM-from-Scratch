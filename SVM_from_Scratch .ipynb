{
 "cells": [
  {
   "cell_type": "code",
   "execution_count": 1,
   "id": "vietnamese-gauge",
   "metadata": {},
   "outputs": [],
   "source": [
    "import numpy as np"
   ]
  },
  {
   "cell_type": "code",
   "execution_count": 28,
   "id": "loved-refrigerator",
   "metadata": {},
   "outputs": [],
   "source": [
    "class SVM:\n",
    "    def __init__(self, learning_rate = 0.1, lambda_value = 0.01, iterations = 100):\n",
    "        self.learning_rate = learning_rate\n",
    "        self.lambda_value = lambda_value\n",
    "        self.iterations = iterations\n",
    "        self.w = 0\n",
    "        self.b = 0\n",
    "        \n",
    "    def fit(self, X, y):\n",
    "        samples_count, features_count = X.shape\n",
    "        \n",
    "        y_class = np.where(y <= 0, -1, 1)\n",
    "        \n",
    "        self.w = np.zeros(features_count)\n",
    "        \n",
    "        for count in range(self.iterations):\n",
    "            for index, xi in enumerate(X):\n",
    "                check = y_class[index] * (np.dot(xi, self.w) - self.b) \n",
    "                if check >= 1:\n",
    "                    self.w = self.w - self.learning_rate * (2 * self.lambda_value * self.w)\n",
    "                else:\n",
    "                    self.w = self.w - 2 * self.lambda_value * self.w - np.dot(y_class[index], xi)\n",
    "                    self.b = self.b - self.learning_rate * y_class[index]\n",
    "    \n",
    "    def predict(self, X):\n",
    "        model = np.dot(X, self.w) - self.b\n",
    "        return np.sign(model)\n",
    "        "
   ]
  }
 ],
 "metadata": {
  "kernelspec": {
   "display_name": "Python 3",
   "language": "python",
   "name": "python3"
  },
  "language_info": {
   "codemirror_mode": {
    "name": "ipython",
    "version": 3
   },
   "file_extension": ".py",
   "mimetype": "text/x-python",
   "name": "python",
   "nbconvert_exporter": "python",
   "pygments_lexer": "ipython3",
   "version": "3.9.5"
  }
 },
 "nbformat": 4,
 "nbformat_minor": 5
}
